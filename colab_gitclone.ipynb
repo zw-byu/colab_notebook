{
 "cells": [
  {
   "cell_type": "code",
   "execution_count": null,
   "id": "1a5aadda",
   "metadata": {},
   "outputs": [],
   "source": [
    "!git clone https://github.com/zw-byu/colab_notebook.git\n",
    "# input_file = 'https://raw.githubusercontent.com/zw-byu/colab_notebook/refs/heads/main/Dogbone_Tension.input'\n",
    "# polymerfem200_adapted = 'https://raw.githubusercontent.com/zw-byu/colab_notebook/refs/heads/main/polymerfem200_adapted.py'"
   ]
  },
  {
   "cell_type": "code",
   "execution_count": null,
   "id": "3546b68f",
   "metadata": {},
   "outputs": [],
   "source": [
    "import polymerfem200_adapted as p2\n",
    "from sympy import *"
   ]
  },
  {
   "cell_type": "code",
   "execution_count": null,
   "id": "8312f05c",
   "metadata": {},
   "outputs": [],
   "source": [
    "E = 100.0\n",
    "v = 0.48\n",
    "tb = [0,2000]\n",
    "filename = '../nb_resources/Dogbone_Tension.input'\n",
    "pf = p2.polyfem200(E, v, filename, plotsolution=1, plotnodes=None, plotmesh=None, elem_select=1, plot_type=\"e11\", tri_batch=None)\n",
    "pf.plot_solution('e11')"
   ]
  }
 ],
 "metadata": {
  "language_info": {
   "name": "python"
  }
 },
 "nbformat": 4,
 "nbformat_minor": 5
}
