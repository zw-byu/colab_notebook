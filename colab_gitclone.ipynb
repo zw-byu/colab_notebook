{
 "cells": [
  {
   "cell_type": "code",
   "execution_count": null,
   "id": "1a5aadda",
   "metadata": {},
   "outputs": [],
   "source": [
    "!git clone https://github.com/zw-byu/colab_notebook.git\n",
    "import os\n",
    "import sys\n",
    "colab_working_directory = os.path.dirname(os.path.abspath(''))\n",
    "cloned_files_directory = os.path.join(colab_working_directory, 'content/colab_notebook')\n",
    "sys.path.append(cloned_files_directory)"
   ]
  },
  {
   "cell_type": "code",
   "execution_count": null,
   "id": "3546b68f",
   "metadata": {},
   "outputs": [],
   "source": [
    "import polymerfem200_adapted as p2\n",
    "from sympy import *"
   ]
  },
  {
   "cell_type": "code",
   "execution_count": null,
   "id": "8312f05c",
   "metadata": {},
   "outputs": [],
   "source": [
    "E = 100.0\n",
    "v = 0.48\n",
    "tb = [0,2000]\n",
    "filename = f'{cloned_files_directory}/Dogbone_Tension.input'\n",
    "pf = p2.polyfem200(E, v, filename, plotsolution=1, plotnodes=None, plotmesh=None, elem_select=1, plot_type=\"e11\", tri_batch=None)\n",
    "pf.plot_solution('e11')"
   ]
  }
 ],
 "metadata": {
  "language_info": {
   "name": "python"
  }
 },
 "nbformat": 4,
 "nbformat_minor": 5
}
