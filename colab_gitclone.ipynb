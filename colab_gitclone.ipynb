{
 "cells": [
  {
   "cell_type": "code",
   "execution_count": null,
   "id": "1a5aadda",
   "metadata": {},
   "outputs": [],
   "source": [
    "# This cell will run only once -- you can \"Run All\" . It will retrieve input and Python files needed for running the cells below. These files will be temporarily loaded to your Colab session at the directory location `content/colab_notebook/`, which you can confirm this by selecting the \"Files\" link (folder icon) on the left menu bar.\n",
    "if get_ipython().__class__.__module__ == 'google.colab._shell' and any([\"COLAB_RELEASE_TAG\" in \tos.environ,\"COLAB_GPU\" in os.environ]):\n",
    "\ttry:\n",
    "\t\tRESOURCES_LOADED\n",
    "\t\tprint(f\"(Ignoring cell; resource files already loaded.)\")\n",
    "\texcept NameError:\n",
    "\t\tprint(f\"(Loading resource files from github...)\")\n",
    "\t\t!git clone https://github.com/zw-byu/colab_notebook.git\n",
    "\t\tRESOURCES_LOADED = True\n",
    "\t\timport os, sys\n",
    "\t\tfor root, dirs, files in os.walk(os.getcwd()):\n",
    "\t\t\tif 'colab_notebook' in dirs:\n",
    "\t\t\t\tcloned_files_directory = os.path.join(root, 'colab_notebook')\n",
    "\t\t\t\tsys.path.append(cloned_files_directory)"
   ]
  },
  {
   "cell_type": "code",
   "execution_count": null,
   "id": "20d2ec95",
   "metadata": {},
   "outputs": [],
   "source": [
    "import polymerfem200_adapted as p2\n",
    "E = 100.0\n",
    "v = 0.48\n",
    "tb = [0,2000]\n",
    "filename = f'{cloned_files_directory}/Dogbone_Tension.input'\n",
    "pf = p2.polyfem200(E, v, filename, plotsolution=1, plotnodes=None, plotmesh=None, elem_select=1, plot_type=\"e11\", tri_batch=None)\n",
    "pf.plot_solution('e11')"
   ]
  }
 ],
 "metadata": {
  "language_info": {
   "name": "python"
  }
 },
 "nbformat": 4,
 "nbformat_minor": 5
}
